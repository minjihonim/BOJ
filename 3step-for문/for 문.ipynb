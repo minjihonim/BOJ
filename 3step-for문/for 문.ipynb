{
 "cells": [
  {
   "cell_type": "markdown",
   "id": "e256af78",
   "metadata": {},
   "source": [
    "### 2739 구구단"
   ]
  },
  {
   "cell_type": "code",
   "execution_count": null,
   "id": "0756a579",
   "metadata": {},
   "outputs": [],
   "source": [
    "N = int(input())\n",
    "for i in range(1, 10):\n",
    "    print(N, '*', i, '=', N*i)"
   ]
  },
  {
   "cell_type": "markdown",
   "id": "6efb177b",
   "metadata": {},
   "source": [
    "### 10950 A+B - 3"
   ]
  },
  {
   "cell_type": "code",
   "execution_count": null,
   "id": "211907a1",
   "metadata": {},
   "outputs": [],
   "source": [
    "t = int(input())\n",
    "\n",
    "for _ in range(t):\n",
    "    a,b = map(int, input().split())\n",
    "    print(a+b)"
   ]
  },
  {
   "cell_type": "markdown",
   "id": "a0b43ea9",
   "metadata": {},
   "source": [
    "### 8393 합"
   ]
  },
  {
   "cell_type": "code",
   "execution_count": 2,
   "id": "8d5125a1",
   "metadata": {},
   "outputs": [
    {
     "name": "stdout",
     "output_type": "stream",
     "text": [
      "5\n",
      "15\n"
     ]
    }
   ],
   "source": [
    "n = int(input())\n",
    "sum = 0\n",
    "for i in range(n+1):\n",
    "    sum = sum +i\n",
    "print(sum)\n"
   ]
  },
  {
   "cell_type": "markdown",
   "id": "40d7f066",
   "metadata": {},
   "source": [
    "### 15552 빠른 A+B"
   ]
  },
  {
   "cell_type": "code",
   "execution_count": null,
   "id": "575d8baa",
   "metadata": {},
   "outputs": [],
   "source": [
    "import sys  # sys모듈 읽어들이기\n",
    "\n",
    "t = int(sys.stdin.readline())\n",
    "\n",
    "for _ in range(t):\n",
    "    a,b = map(int, sys.stdin.readline().split())\n",
    "    print(a+b)"
   ]
  },
  {
   "cell_type": "markdown",
   "id": "5c37055b",
   "metadata": {},
   "source": [
    "### 2741 N 찍기"
   ]
  },
  {
   "cell_type": "code",
   "execution_count": 4,
   "id": "b03c28c8",
   "metadata": {},
   "outputs": [
    {
     "name": "stdout",
     "output_type": "stream",
     "text": [
      "6\n",
      "1\n",
      "2\n",
      "3\n",
      "4\n",
      "5\n",
      "6\n"
     ]
    }
   ],
   "source": [
    "N = int(input())\n",
    "for i in range(1, N+1):\n",
    "    print(i)"
   ]
  },
  {
   "cell_type": "markdown",
   "id": "0264fed2",
   "metadata": {},
   "source": [
    "### 2742 기찍 N"
   ]
  },
  {
   "cell_type": "code",
   "execution_count": null,
   "id": "27330d9a",
   "metadata": {},
   "outputs": [],
   "source": [
    "N = int(input())\n",
    "for i in reversed(range(1, N+1)):\n",
    "    print(i)"
   ]
  },
  {
   "cell_type": "markdown",
   "id": "71326257",
   "metadata": {},
   "source": [
    "### 11021 A+B - 7"
   ]
  },
  {
   "cell_type": "code",
   "execution_count": null,
   "id": "cdcf47f5",
   "metadata": {},
   "outputs": [],
   "source": [
    "cases = int(input())\n",
    "    \n",
    "for i in range(cases):\n",
    "    a, b = map(int, input().split())\n",
    "    ans = a+b\n",
    "    print(\"Case #%s: %s\"%(i+1, ans))"
   ]
  },
  {
   "cell_type": "markdown",
   "id": "1b314c0d",
   "metadata": {},
   "source": [
    "### 11022 A+B - 8"
   ]
  },
  {
   "cell_type": "code",
   "execution_count": null,
   "id": "13d5b157",
   "metadata": {},
   "outputs": [],
   "source": [
    "T = int(input())\n",
    "for i in range(1, T+1):\n",
    "    A,B = map(int, input().split())\n",
    "    C = A + B\n",
    "    print(\"Case #%s: %s + %s = %s\"%(i, A, B, C))"
   ]
  },
  {
   "cell_type": "markdown",
   "id": "be259323",
   "metadata": {},
   "source": [
    "### 2438 별 찍기 - 1"
   ]
  },
  {
   "cell_type": "code",
   "execution_count": null,
   "id": "4efa6d32",
   "metadata": {},
   "outputs": [],
   "source": [
    "N = int(input())\n",
    "for i in range(1, N+1):\n",
    "    print('*'*i)"
   ]
  },
  {
   "cell_type": "markdown",
   "id": "2c4d8e2f",
   "metadata": {},
   "source": [
    "### 2439 별 찍기 - 2"
   ]
  },
  {
   "cell_type": "code",
   "execution_count": null,
   "id": "45e0e89e",
   "metadata": {},
   "outputs": [],
   "source": [
    "N = int(input())\n",
    "for i in range(1, N+1):\n",
    "    print(str('*'*i).rjust(N))"
   ]
  },
  {
   "cell_type": "markdown",
   "id": "9c8d6d1d",
   "metadata": {},
   "source": [
    "### 10871 X보다 작은 수"
   ]
  },
  {
   "cell_type": "code",
   "execution_count": null,
   "id": "19d0ebce",
   "metadata": {},
   "outputs": [],
   "source": [
    "N, X = map(int, input().split())\n",
    "A = list(map(int, input().split()))\n",
    "for i in range(N):\n",
    "    if A[i] < X:\n",
    "        print(A[i], end=\" \")"
   ]
  }
 ],
 "metadata": {
  "kernelspec": {
   "display_name": "Python 3",
   "language": "python",
   "name": "python3"
  },
  "language_info": {
   "codemirror_mode": {
    "name": "ipython",
    "version": 3
   },
   "file_extension": ".py",
   "mimetype": "text/x-python",
   "name": "python",
   "nbconvert_exporter": "python",
   "pygments_lexer": "ipython3",
   "version": "3.8.8"
  }
 },
 "nbformat": 4,
 "nbformat_minor": 5
}
